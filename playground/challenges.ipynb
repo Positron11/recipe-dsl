{
 "cells": [
  {
   "cell_type": "markdown",
   "id": "a64cecda",
   "metadata": {},
   "source": [
    "# Manual Recipe Modeling Challenges\n",
    "\n",
    "Setting up relative imports:"
   ]
  },
  {
   "cell_type": "code",
   "execution_count": 8,
   "id": "21864078",
   "metadata": {},
   "outputs": [],
   "source": [
    "import sys, os\n",
    "sys.path.append(os.path.abspath(\"..\"))"
   ]
  },
  {
   "cell_type": "markdown",
   "id": "88d8e8df",
   "metadata": {},
   "source": [
    "\n",
    "## Challenge #1: Partial Transfer and Residues\n",
    "\n",
    "*Fry bacon until crisp, then remove to a plate. Pour off all but 1 tablespoon of fat, and sauté onions in the same pan.*\n",
    "\n",
    "Let's start by instantiating our canonical entities:"
   ]
  },
  {
   "cell_type": "code",
   "execution_count": 9,
   "id": "e7f244c0",
   "metadata": {},
   "outputs": [],
   "source": [
    "from src.lexicon import CanonicalIngredient, CanonicalTechnique, CanonicalTool, CanonicalLocation, CanonicalContainer, ParamSpec\n",
    "from src.units import StandardUnit\n",
    "\n",
    "\n",
    "bacon = CanonicalIngredient(name=\"bacon\")\n",
    "onion = CanonicalIngredient(name=\"onion\")\n",
    "fat   = CanonicalIngredient(name=\"bacon fat\")\n",
    "\n",
    "fry = CanonicalTechnique(\n",
    "    name=\"fry\",\n",
    "    static=(\n",
    "        \"dry-heat\",\n",
    "        \"fat-mediated\",\n",
    "        \"pan-contact\",\n",
    "        \"shallow-fat\",\n",
    "        \"maillard\",\n",
    "    ),\n",
    "    parameters={\n",
    "        \"fat_type\":      ParamSpec(default=\"neutral-oil\"),\n",
    "        \"fat_volume\":    ParamSpec(default=0.03, unit=StandardUnit.VOLUME, bounds=(0.005, 0.1)),\n",
    "        \"agit_interval\": ParamSpec(default=30.0, unit=StandardUnit.TIME, bounds=(5.0, 60.0)),\n",
    "    },\n",
    ")\n",
    "\n",
    "saute = CanonicalTechnique(\n",
    "    name=\"saute\",\n",
    "    static=(\n",
    "        \"dry-heat\",\n",
    "        \"fat-mediated\",\n",
    "        \"pan-contact\",\n",
    "        \"thin-coat\",\n",
    "        \"high-heat\",\n",
    "        \"agitation\",\n",
    "    ),\n",
    "    parameters={\n",
    "        \"fat_type\":      ParamSpec(default=\"rendered-fat-or-oil\"),\n",
    "        \"fat_volume\":    ParamSpec(default=0.015, unit=StandardUnit.VOLUME, bounds=(0.005, 0.03)),\n",
    "        \"agit_interval\": ParamSpec(default=5.0, unit=StandardUnit.TIME, bounds=(2.0, 15.0)),\n",
    "    },\n",
    ")\n",
    "\n",
    "stovetop = CanonicalLocation(name=\"stovetop\")\n",
    "pan      = CanonicalContainer(name=\"skillet\", material=\"steel\", volume=2.0)\n",
    "plate    = CanonicalContainer(name=\"plate\", material=\"ceramic\")"
   ]
  },
  {
   "cell_type": "markdown",
   "id": "f741ce6e",
   "metadata": {},
   "source": [
    "And then we implement the steps of the recipe itself:"
   ]
  },
  {
   "cell_type": "code",
   "execution_count": 10,
   "id": "c0c13202",
   "metadata": {},
   "outputs": [],
   "source": [
    "from src.ingredient import Ingredient\n",
    "from src.environment import Environment\n",
    "from src.temperature import StaticTemperature\n",
    "from src.action import Process, Transfer, Plate\n",
    "\n",
    "\n",
    "# step 1: transfer bacon to pan\n",
    "bacon_in_pan = Transfer(\n",
    "\tinputs     =(Ingredient(ingredient=bacon._uid, quantity=0.25, unit=StandardUnit.WEIGHT, modifiers=(\"strips\",)),),\n",
    "\tdestination=Environment(location=stovetop._uid, container=pan._uid)\n",
    ")\n",
    "\n",
    "# step 2: fry bacon until crisp\n",
    "fried_bacon = Process(\n",
    "\tinputs     =(bacon_in_pan._uid,),\n",
    "\ttechnique  =fry._uid,\n",
    "\ttemperature=StaticTemperature(value=190.0),\n",
    "\tcondition  =\"crisp\"\n",
    ")\n",
    "\n",
    "# step 3: remove bacon to a plate\n",
    "plated_bacon = Transfer(\n",
    "\tinputs     =(fried_bacon._uid,),\n",
    "\tdestination=Environment(container=plate._uid),\n",
    "\tmodifiers  =\"pour off all but 1 tbsp fat from pan\"\n",
    ")\n",
    "\n",
    "# step 4: transfer onions to pan\n",
    "onion_in_greased_pan = Transfer(\n",
    "\tinputs     =(Ingredient(ingredient=onion._uid, quantity=0.15, unit=StandardUnit.WEIGHT, form=\"diced\"),), # assume available in diced form for this example\n",
    "\tdestination=Environment(location=stovetop._uid, container=pan._uid)\n",
    ")\n",
    "\n",
    "# step 5: saute onions\n",
    "sauteed_onions   = Process(\n",
    "\tinputs     =(onion_in_greased_pan._uid,),\n",
    "\ttechnique  =saute._uid,\n",
    "\ttemperature=StaticTemperature(value=160.0),\n",
    "\tcondition  =\"golden-brown\",\n",
    "\tmodifiers  =\"use remaining bacon fat in same pan\"\n",
    ")\n",
    "\n",
    "# final recipe\n",
    "recipe_1 = (bacon_in_pan, fried_bacon, plated_bacon, onion_in_greased_pan, sauteed_onions)"
   ]
  },
  {
   "cell_type": "markdown",
   "id": "f71f2d96",
   "metadata": {},
   "source": [
    "Finally, a quick summary:"
   ]
  },
  {
   "cell_type": "code",
   "execution_count": 11,
   "id": "8328b649",
   "metadata": {},
   "outputs": [
    {
     "name": "stdout",
     "output_type": "stream",
     "text": [
      "Step 1: Transfer(_uid='GfDNbE1HK-I-', inputs=(Ingredient(ingredient='1xOLBN4an_Uz', quantity=0.25, unit=<StandardUnit.WEIGHT: 'kg'>, form=None, modifiers=('strips',)),), destination=Environment(location='HkrvyWp6cZ4D', container='tEIZ8ZmvUwT4', modifiers=()), time=None, modifiers=None)\n",
      "Step 2: Process(_uid='ridYf8QSXnjE', inputs=('GfDNbE1HK-I-',), technique='ixoUHfjcUtii', tool=None, temperature=StaticTemperature(unit=<StandardUnit.TEMPERATURE: 'C'>, value=190.0), time=None, condition='crisp', modifiers=None)\n",
      "Step 3: Transfer(_uid='yrfUKnukUOSb', inputs=('ridYf8QSXnjE',), destination=Environment(location=None, container='5RJqL_1yG8_A', modifiers=()), time=None, modifiers='pour off all but 1 tbsp fat from pan')\n",
      "Step 4: Transfer(_uid='RhJDKpSN1xBh', inputs=(Ingredient(ingredient='v0dVZr-4FEmV', quantity=0.15, unit=<StandardUnit.WEIGHT: 'kg'>, form='diced', modifiers=()),), destination=Environment(location='HkrvyWp6cZ4D', container='tEIZ8ZmvUwT4', modifiers=()), time=None, modifiers=None)\n",
      "Step 5: Process(_uid='JHVPLgT0TEOs', inputs=('RhJDKpSN1xBh',), technique='Y7YqkSQLBKZ9', tool=None, temperature=StaticTemperature(unit=<StandardUnit.TEMPERATURE: 'C'>, value=160.0), time=None, condition='golden-brown', modifiers='use remaining bacon fat in same pan')\n"
     ]
    }
   ],
   "source": [
    "for i, step in enumerate(recipe_1, start=1):\n",
    "    print(f\"Step {i}: {step}\")"
   ]
  },
  {
   "cell_type": "markdown",
   "id": "9c896f25",
   "metadata": {},
   "source": [
    "## Challenge #2: Concurrent Interjections, Ramped Heat, and Easing Curves\n",
    "\n",
    "*Poach fish in oil at about 50°C, gradually increase heat to about 80°C over 18 minutes (speed up the increase as you go). Baste every 30 seconds and add a tablespoon of butter at 6, 12, and 15 minutes.*\n",
    "\n",
    "Starting again with canonical entities:"
   ]
  },
  {
   "cell_type": "code",
   "execution_count": 12,
   "id": "f099d173",
   "metadata": {},
   "outputs": [],
   "source": [
    "from src.lexicon import CanonicalIngredient, CanonicalTechnique, CanonicalLocation, CanonicalContainer, ParamSpec\n",
    "from src.units import StandardUnit\n",
    "\n",
    "\n",
    "fish   = CanonicalIngredient(\"halibut\")\n",
    "oil    = CanonicalIngredient(\"olive oil\")\n",
    "butter = CanonicalIngredient(\"butter\")\n",
    "\n",
    "baste = CanonicalTechnique(\n",
    "    name=\"baste\",\n",
    "    static=(\n",
    "        \"fat-mediated\",\n",
    "        \"surface-application\",\n",
    "        \"spoon-baste\",\n",
    "        \"intermittent\",\n",
    "    ),\n",
    "    parameters={\n",
    "        # \"interval\":    ParamSpec(default=30.0, unit=StandardUnit.TIME, bounds=(5.0, 120.0)),\n",
    "        \"volume\":      ParamSpec(default=0.015, unit=StandardUnit.VOLUME, bounds=(0.002, 0.05)),\n",
    "    },\n",
    ")\n",
    "\n",
    "poach = CanonicalTechnique(\n",
    "    name=\"poach\",\n",
    "    static=(\n",
    "        \"moist-heat\",\n",
    "        \"fat-mediated\",\n",
    "        \"gentle\",\n",
    "        \"submersion\",\n",
    "    ),\n",
    "    parameters={\n",
    "        \"fat_type\":    ParamSpec(default=\"neutral-oil\"),\n",
    "    },\n",
    ")\n",
    "\n",
    "stovetop = CanonicalLocation(name=\"stovetop\")\n",
    "pot      = CanonicalContainer(name=\"saucepan\", material=\"steel\", volume=3.0)"
   ]
  },
  {
   "cell_type": "markdown",
   "id": "2dbcd095",
   "metadata": {},
   "source": [
    "And now the recipe itself:"
   ]
  },
  {
   "cell_type": "code",
   "execution_count": 13,
   "id": "0b92b010",
   "metadata": {},
   "outputs": [],
   "source": [
    "from src.temperature import RampTemperature\n",
    "from src.time import Timing\n",
    "from src.curves import exp_increase\n",
    "\n",
    "\n",
    "# step 1: set up oil bath with fish\n",
    "fish_in_saucepan = Transfer(\n",
    "    inputs=(\n",
    "        Ingredient(ingredient=fish._uid, quantity=0.18, unit=StandardUnit.WEIGHT),\n",
    "        Ingredient(ingredient=oil._uid,  quantity=0.8,  unit=StandardUnit.VOLUME),\n",
    "    ),\n",
    "    destination=Environment(location=stovetop._uid, container=pot._uid),\n",
    ")\n",
    "\n",
    "# step 2.0: poach along an exponential (accelerating) ramp from 55C to 82C over 18 min\n",
    "poached_fish = Process(\n",
    "    inputs     =(fish_in_saucepan._uid,),\n",
    "    technique  =poach._uid,\n",
    "    temperature=RampTemperature(start=55.0, end=82.0, curve=exp_increase),\n",
    "    time       =Timing(value=18.0 * 60.0),\n",
    ")\n",
    "\n",
    "# step 2.1: concurrent basting interjection (every 30s, non-blocking, repeating)\n",
    "poached_fish__baste_loop = Process(\n",
    "    inputs   =(fish_in_saucepan._uid,),\n",
    "    technique=baste._uid,\n",
    "    time     =Timing(value=30.0, relative_to=poached_fish._uid, repeating=True),\n",
    ")\n",
    "\n",
    "# step 2.2: fractional butter additions at 6, 12, and 15 minutes (non-blocking)\n",
    "poached_fish__add_butter = Transfer(\n",
    "    inputs     =(Ingredient(ingredient=butter._uid, quantity=0.025, unit=StandardUnit.WEIGHT),),\n",
    "    destination=fish_in_saucepan._uid,\n",
    "    time       =Timing(value=0.333, relative_to=poached_fish._uid, repeating=True),\n",
    ")\n",
    "\n",
    "# final recipe\n",
    "recipe_2 = (fish_in_saucepan, poached_fish, poached_fish__baste_loop, poached_fish__add_butter)"
   ]
  },
  {
   "cell_type": "markdown",
   "id": "6a97e02a",
   "metadata": {},
   "source": [
    "Final summary:"
   ]
  },
  {
   "cell_type": "code",
   "execution_count": 14,
   "id": "55956aae",
   "metadata": {},
   "outputs": [
    {
     "name": "stdout",
     "output_type": "stream",
     "text": [
      "Step 1: Transfer(_uid='Gg6CfQVctoxn', inputs=(Ingredient(ingredient='uEC3Kk6HyWwg', quantity=0.18, unit=<StandardUnit.WEIGHT: 'kg'>, form=None, modifiers=()), Ingredient(ingredient='77-bXwW6i46E', quantity=0.8, unit=<StandardUnit.VOLUME: 'l'>, form=None, modifiers=())), destination=Environment(location='T2ee7k3nNZev', container='6U_tgD_Gk6sz', modifiers=()), time=None, modifiers=None)\n",
      "Step 2: Process(_uid='08FgrI7bfOHK', inputs=('Gg6CfQVctoxn',), technique='p19XDmYVrUgy', tool=None, temperature=RampTemperature(unit=<StandardUnit.TEMPERATURE: 'C'>, start=55.0, end=82.0, curve=<function exp_increase at 0x7fbc0859a0c0>), time=Timing(unit=<StandardUnit.TIME: 's'>, value=1080.0, relative_to=None, blocking=False, repeating=False), condition=None, modifiers=None)\n",
      "Step 3: Process(_uid='ZtyKgsKLkRJn', inputs=('Gg6CfQVctoxn',), technique='25BKE0uwIJVF', tool=None, temperature=None, time=Timing(unit=<StandardUnit.TIME: 's'>, value=30.0, relative_to='08FgrI7bfOHK', blocking=False, repeating=True), condition=None, modifiers=None)\n",
      "Step 4: Transfer(_uid='YjeWG3yiKZRt', inputs=(Ingredient(ingredient='pxWGZG7Sm1wG', quantity=0.025, unit=<StandardUnit.WEIGHT: 'kg'>, form=None, modifiers=()),), destination='Gg6CfQVctoxn', time=Timing(unit=<StandardUnit.TIME: 's'>, value=0.333, relative_to='08FgrI7bfOHK', blocking=False, repeating=True), modifiers=None)\n"
     ]
    }
   ],
   "source": [
    "for i, step in enumerate(recipe_2, start=1):\n",
    "    print(f\"Step {i}: {step}\")"
   ]
  },
  {
   "cell_type": "markdown",
   "id": "2fb0d6a1",
   "metadata": {},
   "source": [
    "## Challenge #3: Iterative Addition, Doneness-by-Feel, Off-Heat Emulsion\n",
    "\n",
    "*Make classic cacio e pepe: cook spaghetti until 1 minute shy of al dente; transfer to a wide pan with a splash of starchy water and cracked pepper, tossing vigorously and adding water as needed to maintain a glossy suspension. Off heat, rain in finely grated Pecorino in 2–3 additions while tossing, keeping the sauce below ~65°C to avoid clumping; adjust with pasta water and seasoning \"to taste\" until the sauce is glossy and flows.*"
   ]
  },
  {
   "cell_type": "markdown",
   "id": "e0f2f815",
   "metadata": {},
   "source": [
    "**[LLM Soln.]** Starting again with canonical entities:"
   ]
  },
  {
   "cell_type": "code",
   "execution_count": 15,
   "id": "abefb4a8",
   "metadata": {},
   "outputs": [],
   "source": [
    "from src.lexicon import CanonicalIngredient, CanonicalTechnique, CanonicalContainer, ParamSpec\n",
    "from src.units import StandardUnit\n",
    "\n",
    "# canonical ingredients (challenge #3)\n",
    "spaghetti  = CanonicalIngredient(\"spaghetti\")\n",
    "pecorino   = CanonicalIngredient(\"pecorino romano\")\n",
    "pepper     = CanonicalIngredient(\"black pepper\")\n",
    "pasta_water= CanonicalIngredient(\"pasta water\")\n",
    "\n",
    "# techniques\n",
    "boil = CanonicalTechnique(\n",
    "    name=\"boil\",\n",
    "    static=(\"moist-heat\", \"water-mediated\", \"submersion\"),\n",
    "    parameters={\n",
    "        \"salt_pct\": ParamSpec(default=0.02),\n",
    "    },\n",
    ")\n",
    "\n",
    "toss = CanonicalTechnique(\n",
    "    name=\"toss\",\n",
    "    static=(\"agitation\", \"pan-toss\"),\n",
    "    parameters={}\n",
    ")\n",
    "\n",
    "emulsify = CanonicalTechnique(\n",
    "    name=\"emulsify\",\n",
    "    static=(\"emulsion\", \"off-heat\"),\n",
    "    parameters={\n",
    "        \"temperature\": ParamSpec(default=60.0, unit=StandardUnit.TEMPERATURE, bounds=(30.0, 65.0)),\n",
    "    },\n",
    ")\n",
    "\n",
    "# containers\n",
    "wide_pan = CanonicalContainer(name=\"wide pan\", material=\"steel\", volume=3.0)"
   ]
  },
  {
   "cell_type": "markdown",
   "id": "9d7e67d1",
   "metadata": {},
   "source": [
    "And now the recipe itself:"
   ]
  },
  {
   "cell_type": "code",
   "execution_count": 16,
   "id": "f2a6c1f7",
   "metadata": {},
   "outputs": [],
   "source": [
    "from src.ingredient import Ingredient\n",
    "from src.environment import Environment\n",
    "from src.temperature import StaticTemperature\n",
    "from src.action import Process, Transfer\n",
    "from src.time import Timing\n",
    "from src.units import StandardUnit\n",
    "\n",
    "# step 1: cook spaghetti until 1 minute shy of al dente\n",
    "spaghetti_in_pot = Transfer(\n",
    "    inputs=(Ingredient(ingredient=spaghetti._uid, quantity=0.24, unit=StandardUnit.WEIGHT),),\n",
    "    destination=Environment(location=stovetop._uid, container=pot._uid),\n",
    "    modifiers=\"in generously salted boiling water\",\n",
    ")\n",
    "pasta_near_al_dente = Process(\n",
    "    inputs=(spaghetti_in_pot._uid,),\n",
    "    technique=boil._uid,\n",
    "    condition=\"1-min-shy-of-al-dente\",\n",
    ")\n",
    "\n",
    "# step 2: transfer to wide pan with splash of starchy water + pepper\n",
    "pasta_in_wide_pan = Transfer(\n",
    "    inputs=(\n",
    "        pasta_near_al_dente._uid,\n",
    "        Ingredient(ingredient=pasta_water._uid, quantity=0.1, unit=StandardUnit.VOLUME),\n",
    "        Ingredient(ingredient=pepper._uid,      quantity=0.002, unit=StandardUnit.WEIGHT, form=\"cracked\"),\n",
    "    ),\n",
    "    destination=Environment(container=wide_pan._uid),\n",
    ")\n",
    "\n",
    "# step 3: vigorous tossing with on-demand water splashes to maintain a glossy suspension\n",
    "tossing = Process(\n",
    "    inputs=(pasta_in_wide_pan._uid,),\n",
    "    technique=toss._uid,\n",
    "    time=Timing(value=10.0, repeating=True),\n",
    "    modifiers=\"vigorous tossing; add splashes as needed\",\n",
    ")\n",
    "\n",
    "# step 4: off-heat cheese emulsification in two additions, keep below ~65C\n",
    "cheese_add_1 = Process(\n",
    "    inputs=(tossing._uid, Ingredient(ingredient=pecorino._uid, quantity=0.06, unit=StandardUnit.WEIGHT)),\n",
    "    technique=emulsify._uid,\n",
    "    temperature=StaticTemperature(value=60.0),\n",
    "    time=Timing(value=5.0, relative_to=tossing._uid, blocking=False),\n",
    "    modifiers=\"first rain of cheese, off heat\",\n",
    ")\n",
    "cheese_add_2 = Process(\n",
    "    inputs=(cheese_add_1._uid, Ingredient(ingredient=pecorino._uid, quantity=0.04, unit=StandardUnit.WEIGHT)),\n",
    "    technique=emulsify._uid,\n",
    "    temperature=StaticTemperature(value=60.0),\n",
    "    time=Timing(value=10.0, relative_to=cheese_add_1._uid, blocking=False),\n",
    "    modifiers=\"second rain of cheese, off heat\",\n",
    ")\n",
    "\n",
    "# step 5: adjust with pasta water and seasoning to taste until sauce is glossy and flows\n",
    "finish = Process(\n",
    "    inputs=(cheese_add_2._uid, Ingredient(ingredient=pasta_water._uid, quantity=0.02, unit=StandardUnit.VOLUME)),\n",
    "    technique=toss._uid,\n",
    "    condition=\"glossy-and-flowing; to-taste\",\n",
    ")\n",
    "\n",
    "recipe_3 = (spaghetti_in_pot, pasta_near_al_dente, pasta_in_wide_pan, tossing, cheese_add_1, cheese_add_2, finish)"
   ]
  },
  {
   "cell_type": "markdown",
   "id": "1fd983ac",
   "metadata": {},
   "source": [
    "Final summary:"
   ]
  },
  {
   "cell_type": "code",
   "execution_count": 17,
   "id": "1ea2641f",
   "metadata": {},
   "outputs": [
    {
     "name": "stdout",
     "output_type": "stream",
     "text": [
      "Step 1: Transfer(_uid='TJQIXmhVi_-U', inputs=(Ingredient(ingredient='-NOI9HY62zu_', quantity=0.24, unit=<StandardUnit.WEIGHT: 'kg'>, form=None, modifiers=()),), destination=Environment(location='T2ee7k3nNZev', container='6U_tgD_Gk6sz', modifiers=()), time=None, modifiers='in generously salted boiling water')\n",
      "Step 2: Process(_uid='0buYJIaJPya1', inputs=('TJQIXmhVi_-U',), technique='3ufAdppgikdl', tool=None, temperature=None, time=None, condition='1-min-shy-of-al-dente', modifiers=None)\n",
      "Step 3: Transfer(_uid='AvRGqYAXl35v', inputs=('0buYJIaJPya1', Ingredient(ingredient='NN03vcJan81R', quantity=0.1, unit=<StandardUnit.VOLUME: 'l'>, form=None, modifiers=()), Ingredient(ingredient='F3y_caRy8upN', quantity=0.002, unit=<StandardUnit.WEIGHT: 'kg'>, form='cracked', modifiers=())), destination=Environment(location=None, container='B2vR2np_znA0', modifiers=()), time=None, modifiers=None)\n",
      "Step 4: Process(_uid='JpqSBOrGWphw', inputs=('AvRGqYAXl35v',), technique='Hyo52P6SZJtO', tool=None, temperature=None, time=Timing(unit=<StandardUnit.TIME: 's'>, value=10.0, relative_to=None, blocking=False, repeating=True), condition=None, modifiers='vigorous tossing; add splashes as needed')\n",
      "Step 5: Process(_uid='nM4pUcwTufKu', inputs=('JpqSBOrGWphw', Ingredient(ingredient='vPRLnq8GdELg', quantity=0.06, unit=<StandardUnit.WEIGHT: 'kg'>, form=None, modifiers=())), technique='ve9wA7ZdWFGK', tool=None, temperature=StaticTemperature(unit=<StandardUnit.TEMPERATURE: 'C'>, value=60.0), time=Timing(unit=<StandardUnit.TIME: 's'>, value=5.0, relative_to='JpqSBOrGWphw', blocking=False, repeating=False), condition=None, modifiers='first rain of cheese, off heat')\n",
      "Step 6: Process(_uid='oI7a5OTT6i5J', inputs=('nM4pUcwTufKu', Ingredient(ingredient='vPRLnq8GdELg', quantity=0.04, unit=<StandardUnit.WEIGHT: 'kg'>, form=None, modifiers=())), technique='ve9wA7ZdWFGK', tool=None, temperature=StaticTemperature(unit=<StandardUnit.TEMPERATURE: 'C'>, value=60.0), time=Timing(unit=<StandardUnit.TIME: 's'>, value=10.0, relative_to='nM4pUcwTufKu', blocking=False, repeating=False), condition=None, modifiers='second rain of cheese, off heat')\n",
      "Step 7: Process(_uid='sEDdMWdt1OQW', inputs=('oI7a5OTT6i5J', Ingredient(ingredient='NN03vcJan81R', quantity=0.02, unit=<StandardUnit.VOLUME: 'l'>, form=None, modifiers=())), technique='Hyo52P6SZJtO', tool=None, temperature=None, time=None, condition='glossy-and-flowing; to-taste', modifiers=None)\n"
     ]
    }
   ],
   "source": [
    "for i, step in enumerate(recipe_3, start=1):\n",
    "    print(f\"Step {i}: {step}\")"
   ]
  }
 ],
 "metadata": {
  "kernelspec": {
   "display_name": ".venv",
   "language": "python",
   "name": "python3"
  },
  "language_info": {
   "codemirror_mode": {
    "name": "ipython",
    "version": 3
   },
   "file_extension": ".py",
   "mimetype": "text/x-python",
   "name": "python",
   "nbconvert_exporter": "python",
   "pygments_lexer": "ipython3",
   "version": "3.13.7"
  }
 },
 "nbformat": 4,
 "nbformat_minor": 5
}
